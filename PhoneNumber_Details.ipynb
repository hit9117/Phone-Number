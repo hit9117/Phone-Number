{
  "nbformat": 4,
  "nbformat_minor": 0,
  "metadata": {
    "colab": {
      "name": "PhoneNumber Details.ipynb",
      "provenance": [],
      "authorship_tag": "ABX9TyODwvaBqoeskoWVTufmpVSB",
      "include_colab_link": true
    },
    "kernelspec": {
      "name": "python3",
      "display_name": "Python 3"
    },
    "language_info": {
      "name": "python"
    }
  },
  "cells": [
    {
      "cell_type": "markdown",
      "metadata": {
        "id": "view-in-github",
        "colab_type": "text"
      },
      "source": [
        "<a href=\"https://colab.research.google.com/github/hit9117/Phone-Number/blob/main/PhoneNumber_Details.ipynb\" target=\"_parent\"><img src=\"https://colab.research.google.com/assets/colab-badge.svg\" alt=\"Open In Colab\"/></a>"
      ]
    },
    {
      "cell_type": "code",
      "metadata": {
        "colab": {
          "base_uri": "https://localhost:8080/"
        },
        "id": "-AYCBYrKhzaG",
        "outputId": "cac1ee1e-9bdc-43db-c26b-0a6fd975eeea"
      },
      "source": [
        "!pip install -q phonenumbers"
      ],
      "execution_count": 1,
      "outputs": [
        {
          "output_type": "stream",
          "name": "stdout",
          "text": [
            "\u001b[K     |████████████████████████████████| 2.6 MB 5.2 MB/s \n",
            "\u001b[?25h"
          ]
        }
      ]
    },
    {
      "cell_type": "code",
      "metadata": {
        "id": "pGQvAzFRiAeh"
      },
      "source": [
        "import phonenumbers"
      ],
      "execution_count": 2,
      "outputs": []
    },
    {
      "cell_type": "code",
      "metadata": {
        "id": "Ny5oX5UHiFI-"
      },
      "source": [
        "from phonenumbers import carrier, geocoder, timezone"
      ],
      "execution_count": 3,
      "outputs": []
    },
    {
      "cell_type": "code",
      "metadata": {
        "colab": {
          "base_uri": "https://localhost:8080/"
        },
        "id": "Fvx1DQSbiNsl",
        "outputId": "1d516e2f-df3f-4713-a245-57c19fd2d994"
      },
      "source": [
        "mobileNo = input(\"Enter the Mobile Number with Country Code: \")\n",
        "mobileNo = phonenumbers.parse(mobileNo)"
      ],
      "execution_count": 9,
      "outputs": [
        {
          "name": "stdout",
          "output_type": "stream",
          "text": [
            "Enter the Mobile Number with Country Code: +917013145784\n"
          ]
        }
      ]
    },
    {
      "cell_type": "code",
      "metadata": {
        "colab": {
          "base_uri": "https://localhost:8080/"
        },
        "id": "8WUKSfx3if-Q",
        "outputId": "6ed9619e-88b7-4ec2-9017-d2cf75175c4b"
      },
      "source": [
        "print(timezone.time_zones_for_number(mobileNo))\n",
        "print(carrier.name_for_number(mobileNo, \"en\"))\n",
        "print(geocoder.description_for_number(mobileNo, \"en\"))\n",
        "print(\"Valid Mobile Number: \",phonenumbers.is_valid_number(mobileNo))\n",
        "print(\"Checking Possibility of Number:\",phonenumbers.is_possible_number(mobileNo))"
      ],
      "execution_count": 10,
      "outputs": [
        {
          "output_type": "stream",
          "name": "stdout",
          "text": [
            "('Asia/Calcutta',)\n",
            "Reliance Jio\n",
            "India\n",
            "Valid Mobile Number:  True\n",
            "Checking Possibility of Number: True\n"
          ]
        }
      ]
    }
  ]
}